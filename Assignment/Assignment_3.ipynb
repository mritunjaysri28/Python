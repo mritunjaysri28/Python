{
 "cells": [
  {
   "cell_type": "markdown",
   "id": "bf2f6241",
   "metadata": {},
   "source": [
    "#### Question: Why are functions advantageous to have in your programs?\n",
    "#### Answer:\n",
    "* Reduce duplicate code\n",
    "* reusability\n",
    "* easy to share with another program\n",
    "* break large code into smaller piece\n"
   ]
  },
  {
   "cell_type": "markdown",
   "id": "cb1a7dcd",
   "metadata": {},
   "source": [
    "#### Question: When does the code in a function run: when it's specified or when it's called?\n",
    "#### Answer:\n",
    "Code inside the function will run when function is called."
   ]
  },
  {
   "cell_type": "markdown",
   "id": "25a8f2dd",
   "metadata": {},
   "source": [
    "#### Question: What statement creates a function?\n",
    "#### Answer:\n",
    "In Python def will create the function"
   ]
  },
  {
   "cell_type": "code",
   "execution_count": 1,
   "id": "e5ec9133",
   "metadata": {},
   "outputs": [],
   "source": [
    "def function_name() :\n",
    "    pass"
   ]
  },
  {
   "cell_type": "markdown",
   "id": "9266527d",
   "metadata": {},
   "source": [
    "#### Question: What is the difference between a function and a function call?\n",
    "#### Answer:\n",
    "* Function is a piece a code that can run when its required it can be called multiple times. \n",
    "* Function call is process of invoking a function to execute the piece of code written in function"
   ]
  },
  {
   "cell_type": "code",
   "execution_count": 3,
   "id": "8d1cfbde",
   "metadata": {},
   "outputs": [
    {
     "name": "stdout",
     "output_type": "stream",
     "text": [
      "Function is called\n"
     ]
    }
   ],
   "source": [
    "#Function\n",
    "def fun_name():\n",
    "    print(\"Function is called\")\n",
    "    \n",
    "#Function Call\n",
    "fun_name()"
   ]
  },
  {
   "cell_type": "markdown",
   "id": "963e9b3d",
   "metadata": {},
   "source": [
    "#### Question: How many global scopes are there in a Python program? How many local scopes?\n",
    "#### Answer:\n",
    "There is one global scope in python, by default it is created when program start to create any global variable it need to declare outside of the function or class, that can be accessed from anywhere.\n",
    "To modify global variable within function, need to use a global keyword"
   ]
  },
  {
   "cell_type": "code",
   "execution_count": 12,
   "id": "67090639",
   "metadata": {},
   "outputs": [
    {
     "name": "stdout",
     "output_type": "stream",
     "text": [
      "Global Variable is called 10\n",
      "Update Global Variable 20\n"
     ]
    }
   ],
   "source": [
    "X = 10\n",
    "def a():\n",
    "    global X\n",
    "    X=20\n",
    "print(\"Global Variable is called\", X) \n",
    "a()\n",
    "print(\"Update Global Variable\", X)"
   ]
  },
  {
   "cell_type": "markdown",
   "id": "5d89fc42",
   "metadata": {},
   "source": [
    "#### Question: What happens to variables in a local scope when the function call returns?\n",
    "#### Answer:\n",
    "When function is called python interpreter will create a stack frame where all local variable are stored once it return it will destroy the stack frame and free the memory"
   ]
  },
  {
   "cell_type": "markdown",
   "id": "fd606950",
   "metadata": {},
   "source": [
    "#### Question: What is the concept of a return value? Is it possible to have a return value in an expression?\n",
    "#### Answer:\n",
    "Function will return a value to the caller once the execution is complete, yes it possible to return a value in expression."
   ]
  },
  {
   "cell_type": "markdown",
   "id": "4634af82",
   "metadata": {},
   "source": [
    "#### Question: If a function does not have a return statement, what is the return value of a call to that function?\n",
    "#### Answer\n",
    "if function not have return value it will return None"
   ]
  },
  {
   "cell_type": "markdown",
   "id": "9348f00c",
   "metadata": {},
   "source": [
    "#### Question: How do you make a function variable refer to the global variable?\n",
    "#### Answer:\n",
    "using global keyword"
   ]
  },
  {
   "cell_type": "markdown",
   "id": "90a9dc07",
   "metadata": {},
   "source": [
    "#### Question: What is the data type of None?\n",
    "#### Answer:\n",
    "None value represent null or no value which data type is NoneType\n",
    "\n",
    "#### Question: What does the sentence import areallyourpetsnamederic do?\n",
    "#### Answer: \n",
    "areallyourpetsnamederic is an module where import help to use the function and value written inside this module\n",
    "\n",
    "#### Question: If you had a bacon() feature in a spam module, what would you call it after importing spam?\n",
    "#### Answer:\n",
    "spam.bacon()\n",
    "\n",
    "#### Question: What can you do to save a programme from crashing if it encounters an error?\n",
    "#### Answer:\n",
    "we can use try expect block to handle the error and continue the running\n",
    "\n",
    "#### Question: What is the purpose of the try clause? What is the purpose of the except clause?\n",
    "#### Answer:\n",
    "try clause will run the code required to raise an error where as expect clause use to handle the exception caused by try clause"
   ]
  }
 ],
 "metadata": {
  "kernelspec": {
   "display_name": "Python 3 (ipykernel)",
   "language": "python",
   "name": "python3"
  },
  "language_info": {
   "codemirror_mode": {
    "name": "ipython",
    "version": 3
   },
   "file_extension": ".py",
   "mimetype": "text/x-python",
   "name": "python",
   "nbconvert_exporter": "python",
   "pygments_lexer": "ipython3",
   "version": "3.11.3"
  }
 },
 "nbformat": 4,
 "nbformat_minor": 5
}
